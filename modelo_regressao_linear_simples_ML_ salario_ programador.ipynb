{
  "nbformat": 4,
  "nbformat_minor": 0,
  "metadata": {
    "colab": {
      "provenance": []
    },
    "kernelspec": {
      "name": "python3",
      "display_name": "Python 3"
    },
    "language_info": {
      "name": "python"
    }
  },
  "cells": [
    {
      "cell_type": "markdown",
      "source": [
        "as importações"
      ],
      "metadata": {
        "id": "ZFutd8K_YmJ2"
      }
    },
    {
      "cell_type": "code",
      "execution_count": 1,
      "metadata": {
        "id": "oaBNN5nRXe1h"
      },
      "outputs": [],
      "source": [
        "import pandas as pd\n"
      ]
    },
    {
      "cell_type": "code",
      "source": [
        "import matplotlib.pyplot as plt\n"
      ],
      "metadata": {
        "id": "ASZQgjAmYW8t"
      },
      "execution_count": 2,
      "outputs": []
    },
    {
      "cell_type": "code",
      "source": [
        "from sklearn.model_selection import train_test_split\n"
      ],
      "metadata": {
        "id": "brfYLWzlYYjc"
      },
      "execution_count": 3,
      "outputs": []
    },
    {
      "cell_type": "code",
      "source": [
        "from sklearn.linear_model import LinearRegression"
      ],
      "metadata": {
        "id": "dEctsQHRYZuc"
      },
      "execution_count": 4,
      "outputs": []
    },
    {
      "cell_type": "markdown",
      "source": [
        "Obter os dados"
      ],
      "metadata": {
        "id": "3q6yA1-PXbZk"
      }
    },
    {
      "cell_type": "code",
      "source": [
        "dataset_salarios = pd.read_csv('/content/drive/MyDrive/platzi/sklearn/salarios.csv')"
      ],
      "metadata": {
        "id": "7akuqd04c3hv"
      },
      "execution_count": 5,
      "outputs": []
    },
    {
      "cell_type": "code",
      "source": [
        "dataset_salarios.shape\n"
      ],
      "metadata": {
        "colab": {
          "base_uri": "https://localhost:8080/"
        },
        "id": "ptd0AFG1f29c",
        "outputId": "92498547-ec4c-4618-af3d-cbf5320840c0"
      },
      "execution_count": 6,
      "outputs": [
        {
          "output_type": "execute_result",
          "data": {
            "text/plain": [
              "(30, 2)"
            ]
          },
          "metadata": {},
          "execution_count": 6
        }
      ]
    },
    {
      "cell_type": "code",
      "source": [
        "dataset_salarios.head"
      ],
      "metadata": {
        "colab": {
          "base_uri": "https://localhost:8080/"
        },
        "id": "DOSfJKR2fweE",
        "outputId": "5b0c0774-7921-40e5-a7e3-84765a09e19e"
      },
      "execution_count": 7,
      "outputs": [
        {
          "output_type": "execute_result",
          "data": {
            "text/plain": [
              "<bound method NDFrame.head of     Aexperiencia  Salario\n",
              "0           10.0    42500\n",
              "1            8.0    36302\n",
              "2            5.4    35000\n",
              "3            2.5    18103\n",
              "4            1.0    15000\n",
              "5            8.0    37000\n",
              "6            4.0    26300\n",
              "7            6.0    35201\n",
              "8            2.0    18302\n",
              "9           10.0    42000\n",
              "10           4.0    27000\n",
              "11           7.0    35201\n",
              "12           3.0    19201\n",
              "13           5.0    28000\n",
              "14           2.0    17000\n",
              "15           5.0    33402\n",
              "16           3.0    19000\n",
              "17           2.0    18200\n",
              "18           3.0    19000\n",
              "19           2.0    17301\n",
              "20           5.0    28000\n",
              "21           3.4    20000\n",
              "22           5.3    27900\n",
              "23           2.1    17500\n",
              "24           9.2    40000\n",
              "25          10.0    42500\n",
              "26           3.2    18300\n",
              "27          10.0    40000\n",
              "28           4.0    25000\n",
              "29           1.0    15000>"
            ]
          },
          "metadata": {},
          "execution_count": 7
        }
      ]
    },
    {
      "cell_type": "code",
      "source": [
        "dataset_salarios"
      ],
      "metadata": {
        "colab": {
          "base_uri": "https://localhost:8080/",
          "height": 990
        },
        "id": "IYZgPD8Iflzl",
        "outputId": "eee5c566-fa34-43ff-a103-91cd5524637d"
      },
      "execution_count": 8,
      "outputs": [
        {
          "output_type": "execute_result",
          "data": {
            "text/plain": [
              "    Aexperiencia  Salario\n",
              "0           10.0    42500\n",
              "1            8.0    36302\n",
              "2            5.4    35000\n",
              "3            2.5    18103\n",
              "4            1.0    15000\n",
              "5            8.0    37000\n",
              "6            4.0    26300\n",
              "7            6.0    35201\n",
              "8            2.0    18302\n",
              "9           10.0    42000\n",
              "10           4.0    27000\n",
              "11           7.0    35201\n",
              "12           3.0    19201\n",
              "13           5.0    28000\n",
              "14           2.0    17000\n",
              "15           5.0    33402\n",
              "16           3.0    19000\n",
              "17           2.0    18200\n",
              "18           3.0    19000\n",
              "19           2.0    17301\n",
              "20           5.0    28000\n",
              "21           3.4    20000\n",
              "22           5.3    27900\n",
              "23           2.1    17500\n",
              "24           9.2    40000\n",
              "25          10.0    42500\n",
              "26           3.2    18300\n",
              "27          10.0    40000\n",
              "28           4.0    25000\n",
              "29           1.0    15000"
            ],
            "text/html": [
              "\n",
              "  <div id=\"df-988a665d-29d3-486b-ba56-bd0dcb711769\">\n",
              "    <div class=\"colab-df-container\">\n",
              "      <div>\n",
              "<style scoped>\n",
              "    .dataframe tbody tr th:only-of-type {\n",
              "        vertical-align: middle;\n",
              "    }\n",
              "\n",
              "    .dataframe tbody tr th {\n",
              "        vertical-align: top;\n",
              "    }\n",
              "\n",
              "    .dataframe thead th {\n",
              "        text-align: right;\n",
              "    }\n",
              "</style>\n",
              "<table border=\"1\" class=\"dataframe\">\n",
              "  <thead>\n",
              "    <tr style=\"text-align: right;\">\n",
              "      <th></th>\n",
              "      <th>Aexperiencia</th>\n",
              "      <th>Salario</th>\n",
              "    </tr>\n",
              "  </thead>\n",
              "  <tbody>\n",
              "    <tr>\n",
              "      <th>0</th>\n",
              "      <td>10.0</td>\n",
              "      <td>42500</td>\n",
              "    </tr>\n",
              "    <tr>\n",
              "      <th>1</th>\n",
              "      <td>8.0</td>\n",
              "      <td>36302</td>\n",
              "    </tr>\n",
              "    <tr>\n",
              "      <th>2</th>\n",
              "      <td>5.4</td>\n",
              "      <td>35000</td>\n",
              "    </tr>\n",
              "    <tr>\n",
              "      <th>3</th>\n",
              "      <td>2.5</td>\n",
              "      <td>18103</td>\n",
              "    </tr>\n",
              "    <tr>\n",
              "      <th>4</th>\n",
              "      <td>1.0</td>\n",
              "      <td>15000</td>\n",
              "    </tr>\n",
              "    <tr>\n",
              "      <th>5</th>\n",
              "      <td>8.0</td>\n",
              "      <td>37000</td>\n",
              "    </tr>\n",
              "    <tr>\n",
              "      <th>6</th>\n",
              "      <td>4.0</td>\n",
              "      <td>26300</td>\n",
              "    </tr>\n",
              "    <tr>\n",
              "      <th>7</th>\n",
              "      <td>6.0</td>\n",
              "      <td>35201</td>\n",
              "    </tr>\n",
              "    <tr>\n",
              "      <th>8</th>\n",
              "      <td>2.0</td>\n",
              "      <td>18302</td>\n",
              "    </tr>\n",
              "    <tr>\n",
              "      <th>9</th>\n",
              "      <td>10.0</td>\n",
              "      <td>42000</td>\n",
              "    </tr>\n",
              "    <tr>\n",
              "      <th>10</th>\n",
              "      <td>4.0</td>\n",
              "      <td>27000</td>\n",
              "    </tr>\n",
              "    <tr>\n",
              "      <th>11</th>\n",
              "      <td>7.0</td>\n",
              "      <td>35201</td>\n",
              "    </tr>\n",
              "    <tr>\n",
              "      <th>12</th>\n",
              "      <td>3.0</td>\n",
              "      <td>19201</td>\n",
              "    </tr>\n",
              "    <tr>\n",
              "      <th>13</th>\n",
              "      <td>5.0</td>\n",
              "      <td>28000</td>\n",
              "    </tr>\n",
              "    <tr>\n",
              "      <th>14</th>\n",
              "      <td>2.0</td>\n",
              "      <td>17000</td>\n",
              "    </tr>\n",
              "    <tr>\n",
              "      <th>15</th>\n",
              "      <td>5.0</td>\n",
              "      <td>33402</td>\n",
              "    </tr>\n",
              "    <tr>\n",
              "      <th>16</th>\n",
              "      <td>3.0</td>\n",
              "      <td>19000</td>\n",
              "    </tr>\n",
              "    <tr>\n",
              "      <th>17</th>\n",
              "      <td>2.0</td>\n",
              "      <td>18200</td>\n",
              "    </tr>\n",
              "    <tr>\n",
              "      <th>18</th>\n",
              "      <td>3.0</td>\n",
              "      <td>19000</td>\n",
              "    </tr>\n",
              "    <tr>\n",
              "      <th>19</th>\n",
              "      <td>2.0</td>\n",
              "      <td>17301</td>\n",
              "    </tr>\n",
              "    <tr>\n",
              "      <th>20</th>\n",
              "      <td>5.0</td>\n",
              "      <td>28000</td>\n",
              "    </tr>\n",
              "    <tr>\n",
              "      <th>21</th>\n",
              "      <td>3.4</td>\n",
              "      <td>20000</td>\n",
              "    </tr>\n",
              "    <tr>\n",
              "      <th>22</th>\n",
              "      <td>5.3</td>\n",
              "      <td>27900</td>\n",
              "    </tr>\n",
              "    <tr>\n",
              "      <th>23</th>\n",
              "      <td>2.1</td>\n",
              "      <td>17500</td>\n",
              "    </tr>\n",
              "    <tr>\n",
              "      <th>24</th>\n",
              "      <td>9.2</td>\n",
              "      <td>40000</td>\n",
              "    </tr>\n",
              "    <tr>\n",
              "      <th>25</th>\n",
              "      <td>10.0</td>\n",
              "      <td>42500</td>\n",
              "    </tr>\n",
              "    <tr>\n",
              "      <th>26</th>\n",
              "      <td>3.2</td>\n",
              "      <td>18300</td>\n",
              "    </tr>\n",
              "    <tr>\n",
              "      <th>27</th>\n",
              "      <td>10.0</td>\n",
              "      <td>40000</td>\n",
              "    </tr>\n",
              "    <tr>\n",
              "      <th>28</th>\n",
              "      <td>4.0</td>\n",
              "      <td>25000</td>\n",
              "    </tr>\n",
              "    <tr>\n",
              "      <th>29</th>\n",
              "      <td>1.0</td>\n",
              "      <td>15000</td>\n",
              "    </tr>\n",
              "  </tbody>\n",
              "</table>\n",
              "</div>\n",
              "      <button class=\"colab-df-convert\" onclick=\"convertToInteractive('df-988a665d-29d3-486b-ba56-bd0dcb711769')\"\n",
              "              title=\"Convert this dataframe to an interactive table.\"\n",
              "              style=\"display:none;\">\n",
              "        \n",
              "  <svg xmlns=\"http://www.w3.org/2000/svg\" height=\"24px\"viewBox=\"0 0 24 24\"\n",
              "       width=\"24px\">\n",
              "    <path d=\"M0 0h24v24H0V0z\" fill=\"none\"/>\n",
              "    <path d=\"M18.56 5.44l.94 2.06.94-2.06 2.06-.94-2.06-.94-.94-2.06-.94 2.06-2.06.94zm-11 1L8.5 8.5l.94-2.06 2.06-.94-2.06-.94L8.5 2.5l-.94 2.06-2.06.94zm10 10l.94 2.06.94-2.06 2.06-.94-2.06-.94-.94-2.06-.94 2.06-2.06.94z\"/><path d=\"M17.41 7.96l-1.37-1.37c-.4-.4-.92-.59-1.43-.59-.52 0-1.04.2-1.43.59L10.3 9.45l-7.72 7.72c-.78.78-.78 2.05 0 2.83L4 21.41c.39.39.9.59 1.41.59.51 0 1.02-.2 1.41-.59l7.78-7.78 2.81-2.81c.8-.78.8-2.07 0-2.86zM5.41 20L4 18.59l7.72-7.72 1.47 1.35L5.41 20z\"/>\n",
              "  </svg>\n",
              "      </button>\n",
              "      \n",
              "  <style>\n",
              "    .colab-df-container {\n",
              "      display:flex;\n",
              "      flex-wrap:wrap;\n",
              "      gap: 12px;\n",
              "    }\n",
              "\n",
              "    .colab-df-convert {\n",
              "      background-color: #E8F0FE;\n",
              "      border: none;\n",
              "      border-radius: 50%;\n",
              "      cursor: pointer;\n",
              "      display: none;\n",
              "      fill: #1967D2;\n",
              "      height: 32px;\n",
              "      padding: 0 0 0 0;\n",
              "      width: 32px;\n",
              "    }\n",
              "\n",
              "    .colab-df-convert:hover {\n",
              "      background-color: #E2EBFA;\n",
              "      box-shadow: 0px 1px 2px rgba(60, 64, 67, 0.3), 0px 1px 3px 1px rgba(60, 64, 67, 0.15);\n",
              "      fill: #174EA6;\n",
              "    }\n",
              "\n",
              "    [theme=dark] .colab-df-convert {\n",
              "      background-color: #3B4455;\n",
              "      fill: #D2E3FC;\n",
              "    }\n",
              "\n",
              "    [theme=dark] .colab-df-convert:hover {\n",
              "      background-color: #434B5C;\n",
              "      box-shadow: 0px 1px 3px 1px rgba(0, 0, 0, 0.15);\n",
              "      filter: drop-shadow(0px 1px 2px rgba(0, 0, 0, 0.3));\n",
              "      fill: #FFFFFF;\n",
              "    }\n",
              "  </style>\n",
              "\n",
              "      <script>\n",
              "        const buttonEl =\n",
              "          document.querySelector('#df-988a665d-29d3-486b-ba56-bd0dcb711769 button.colab-df-convert');\n",
              "        buttonEl.style.display =\n",
              "          google.colab.kernel.accessAllowed ? 'block' : 'none';\n",
              "\n",
              "        async function convertToInteractive(key) {\n",
              "          const element = document.querySelector('#df-988a665d-29d3-486b-ba56-bd0dcb711769');\n",
              "          const dataTable =\n",
              "            await google.colab.kernel.invokeFunction('convertToInteractive',\n",
              "                                                     [key], {});\n",
              "          if (!dataTable) return;\n",
              "\n",
              "          const docLinkHtml = 'Like what you see? Visit the ' +\n",
              "            '<a target=\"_blank\" href=https://colab.research.google.com/notebooks/data_table.ipynb>data table notebook</a>'\n",
              "            + ' to learn more about interactive tables.';\n",
              "          element.innerHTML = '';\n",
              "          dataTable['output_type'] = 'display_data';\n",
              "          await google.colab.output.renderOutput(dataTable, element);\n",
              "          const docLink = document.createElement('div');\n",
              "          docLink.innerHTML = docLinkHtml;\n",
              "          element.appendChild(docLink);\n",
              "        }\n",
              "      </script>\n",
              "    </div>\n",
              "  </div>\n",
              "  "
            ]
          },
          "metadata": {},
          "execution_count": 8
        }
      ]
    },
    {
      "cell_type": "markdown",
      "source": [
        "Divide dados"
      ],
      "metadata": {
        "id": "NuEwgC0FXkCs"
      }
    },
    {
      "cell_type": "code",
      "source": [
        "x = dataset_salarios.iloc[:, :-1].values"
      ],
      "metadata": {
        "id": "GmsKn3MmgKbU"
      },
      "execution_count": 9,
      "outputs": []
    },
    {
      "cell_type": "code",
      "source": [
        "x"
      ],
      "metadata": {
        "colab": {
          "base_uri": "https://localhost:8080/"
        },
        "id": "-uLI5Nt4g9cl",
        "outputId": "b1c87c79-fd16-4cc1-a3af-b41073876674"
      },
      "execution_count": 10,
      "outputs": [
        {
          "output_type": "execute_result",
          "data": {
            "text/plain": [
              "array([[10. ],\n",
              "       [ 8. ],\n",
              "       [ 5.4],\n",
              "       [ 2.5],\n",
              "       [ 1. ],\n",
              "       [ 8. ],\n",
              "       [ 4. ],\n",
              "       [ 6. ],\n",
              "       [ 2. ],\n",
              "       [10. ],\n",
              "       [ 4. ],\n",
              "       [ 7. ],\n",
              "       [ 3. ],\n",
              "       [ 5. ],\n",
              "       [ 2. ],\n",
              "       [ 5. ],\n",
              "       [ 3. ],\n",
              "       [ 2. ],\n",
              "       [ 3. ],\n",
              "       [ 2. ],\n",
              "       [ 5. ],\n",
              "       [ 3.4],\n",
              "       [ 5.3],\n",
              "       [ 2.1],\n",
              "       [ 9.2],\n",
              "       [10. ],\n",
              "       [ 3.2],\n",
              "       [10. ],\n",
              "       [ 4. ],\n",
              "       [ 1. ]])"
            ]
          },
          "metadata": {},
          "execution_count": 10
        }
      ]
    },
    {
      "cell_type": "code",
      "source": [
        "y = dataset_salarios.iloc[:, 1].values"
      ],
      "metadata": {
        "id": "n0OgYbhcgbV0"
      },
      "execution_count": 11,
      "outputs": []
    },
    {
      "cell_type": "code",
      "source": [
        "y"
      ],
      "metadata": {
        "colab": {
          "base_uri": "https://localhost:8080/"
        },
        "id": "zl3tNQIvhA3c",
        "outputId": "95258a81-07fc-49d1-a9fb-563dcde9ea0d"
      },
      "execution_count": 12,
      "outputs": [
        {
          "output_type": "execute_result",
          "data": {
            "text/plain": [
              "array([42500, 36302, 35000, 18103, 15000, 37000, 26300, 35201, 18302,\n",
              "       42000, 27000, 35201, 19201, 28000, 17000, 33402, 19000, 18200,\n",
              "       19000, 17301, 28000, 20000, 27900, 17500, 40000, 42500, 18300,\n",
              "       40000, 25000, 15000])"
            ]
          },
          "metadata": {},
          "execution_count": 12
        }
      ]
    },
    {
      "cell_type": "markdown",
      "source": [
        "# treina dados"
      ],
      "metadata": {
        "id": "zC1fwBwoXn8s"
      }
    },
    {
      "cell_type": "code",
      "source": [
        "X_train, X_test, Y_train, Y_test = train_test_split(x,y, test_size = 0.2, random_state = 0)"
      ],
      "metadata": {
        "id": "BKwbiElNNzGW"
      },
      "execution_count": 13,
      "outputs": []
    },
    {
      "cell_type": "code",
      "source": [
        "X_train"
      ],
      "metadata": {
        "colab": {
          "base_uri": "https://localhost:8080/"
        },
        "id": "tznLtEGqRfSu",
        "outputId": "048d3ac8-47c5-4c5c-ca13-c9ada1f7877e"
      },
      "execution_count": 14,
      "outputs": [
        {
          "output_type": "execute_result",
          "data": {
            "text/plain": [
              "array([[10. ],\n",
              "       [ 7. ],\n",
              "       [ 2. ],\n",
              "       [ 5.3],\n",
              "       [ 8. ],\n",
              "       [ 3. ],\n",
              "       [ 2. ],\n",
              "       [ 2. ],\n",
              "       [ 2.1],\n",
              "       [ 5. ],\n",
              "       [ 8. ],\n",
              "       [ 1. ],\n",
              "       [ 4. ],\n",
              "       [ 1. ],\n",
              "       [ 3. ],\n",
              "       [ 2. ],\n",
              "       [10. ],\n",
              "       [ 6. ],\n",
              "       [10. ],\n",
              "       [ 2.5],\n",
              "       [10. ],\n",
              "       [ 3.4],\n",
              "       [ 5. ],\n",
              "       [ 3. ]])"
            ]
          },
          "metadata": {},
          "execution_count": 14
        }
      ]
    },
    {
      "cell_type": "code",
      "source": [
        "regressor = LinearRegression()\n",
        "regressor.fit(X_train, Y_train)"
      ],
      "metadata": {
        "colab": {
          "base_uri": "https://localhost:8080/"
        },
        "id": "v08DRZlyRhTe",
        "outputId": "58ad6b26-ba82-4526-cfac-97dd28c968d4"
      },
      "execution_count": 15,
      "outputs": [
        {
          "output_type": "execute_result",
          "data": {
            "text/plain": [
              "LinearRegression()"
            ]
          },
          "metadata": {},
          "execution_count": 15
        }
      ]
    },
    {
      "cell_type": "markdown",
      "source": [
        "visualizar dados treinados"
      ],
      "metadata": {
        "id": "VNS7u9R8XqiD"
      }
    },
    {
      "cell_type": "code",
      "source": [
        "viz_train = plt"
      ],
      "metadata": {
        "id": "CUqOxM7UXsiq"
      },
      "execution_count": 16,
      "outputs": []
    },
    {
      "cell_type": "markdown",
      "source": [
        "#posso pasar as informaçoes separadas, ou juntas."
      ],
      "metadata": {
        "id": "WInVZ5CoYzIx"
      }
    },
    {
      "cell_type": "code",
      "source": [
        "viz_train.scatter(X_train, Y_train, color = 'blue')"
      ],
      "metadata": {
        "colab": {
          "base_uri": "https://localhost:8080/",
          "height": 282
        },
        "id": "QMcZJqCSXw-D",
        "outputId": "76620986-eb76-4d1a-9be2-110605441b37"
      },
      "execution_count": 17,
      "outputs": [
        {
          "output_type": "execute_result",
          "data": {
            "text/plain": [
              "<matplotlib.collections.PathCollection at 0x7f0977ca81c0>"
            ]
          },
          "metadata": {},
          "execution_count": 17
        },
        {
          "output_type": "display_data",
          "data": {
            "text/plain": [
              "<Figure size 432x288 with 1 Axes>"
            ],
            "image/png": "[encoded data removed]"
          },
          "metadata": {
            "needs_background": "light"
          }
        }
      ]
    },
    {
      "cell_type": "code",
      "source": [
        "viz_train.plot(X_train, regressor.predict(X_train), color = 'black')"
      ],
      "metadata": {
        "colab": {
          "base_uri": "https://localhost:8080/",
          "height": 282
        },
        "id": "SGK05Ed_YMjE",
        "outputId": "e4942198-b294-4487-db9a-bdf3caaaa5ff"
      },
      "execution_count": 18,
      "outputs": [
        {
          "output_type": "execute_result",
          "data": {
            "text/plain": [
              "[<matplotlib.lines.Line2D at 0x7f0977c3f7c0>]"
            ]
          },
          "metadata": {},
          "execution_count": 18
        },
        {
          "output_type": "display_data",
          "data": {
            "text/plain": [
              "<Figure size 432x288 with 1 Axes>"
            ],
            "image/png": "[encoded data removed]"
          },
          "metadata": {
            "needs_background": "light"
          }
        }
      ]
    },
    {
      "cell_type": "code",
      "source": [
        "viz_train.scatter(X_train, Y_train, color = 'blue')\n",
        "viz_train.plot(X_train, regressor.predict(X_train), color = 'black')\n",
        "viz_train.title('Salario VS Experiencia')\n",
        "viz_train.ylabel('Salario')\n",
        "viz_train.xlabel('Anos de Exsperiencia')\n",
        "viz_train.show()"
      ],
      "metadata": {
        "colab": {
          "base_uri": "https://localhost:8080/",
          "height": 295
        },
        "id": "CdNSQJXPYtL8",
        "outputId": "8872b04f-105a-41d8-dca4-4e84ff212ddd"
      },
      "execution_count": 19,
      "outputs": [
        {
          "output_type": "display_data",
          "data": {
            "text/plain": [
              "<Figure size 432x288 with 1 Axes>"
            ],
            "image/png": "[encoded data removed]"
          },
          "metadata": {
            "needs_background": "light"
          }
        }
      ]
    },
    {
      "cell_type": "code",
      "source": [
        "regressor.score(X_test, Y_test)"
      ],
      "metadata": {
        "colab": {
          "base_uri": "https://localhost:8080/"
        },
        "id": "yCQ_5ymAem9k",
        "outputId": "03226855-47d3-4be4-f647-313531939982"
      },
      "execution_count": 20,
      "outputs": [
        {
          "output_type": "execute_result",
          "data": {
            "text/plain": [
              "0.7862437374732997"
            ]
          },
          "metadata": {},
          "execution_count": 20
        }
      ]
    },
    {
      "cell_type": "markdown",
      "source": [
        "#teste"
      ],
      "metadata": {
        "id": "Do15guFlargD"
      }
    },
    {
      "cell_type": "code",
      "source": [
        "viz_train.scatter(X_test, Y_test, color = 'red')\n",
        "viz_train.plot(X_train, regressor.predict(X_train), color = 'black')\n",
        "viz_train.title('Salario VS Experiencia')\n",
        "viz_train.ylabel('Salario')\n",
        "viz_train.xlabel('Anos de Exsperiencia')\n",
        "viz_train.show()"
      ],
      "metadata": {
        "colab": {
          "base_uri": "https://localhost:8080/",
          "height": 295
        },
        "id": "EqesImnkYuVJ",
        "outputId": "9c2bb17c-d2bc-4ff8-f771-903f7af3daa6"
      },
      "execution_count": 21,
      "outputs": [
        {
          "output_type": "display_data",
          "data": {
            "text/plain": [
              "<Figure size 432x288 with 1 Axes>"
            ],
            "image/png": "[encoded data removed]"
          },
          "metadata": {
            "needs_background": "light"
          }
        }
      ]
    },
    {
      "cell_type": "markdown",
      "source": [
        "compara oque foi treinado e o de teste"
      ],
      "metadata": {
        "id": "FPKjaSQ6d_yu"
      }
    },
    {
      "cell_type": "code",
      "source": [
        "regressor.score(X_test, Y_test)"
      ],
      "metadata": {
        "colab": {
          "base_uri": "https://localhost:8080/"
        },
        "id": "qahyu6J0eCQc",
        "outputId": "e70310d4-4bc2-4c8b-a92d-e497dd7ddcdd"
      },
      "execution_count": 22,
      "outputs": [
        {
          "output_type": "execute_result",
          "data": {
            "text/plain": [
              "0.7862437374732997"
            ]
          },
          "metadata": {},
          "execution_count": 22
        }
      ]
    },
    {
      "cell_type": "markdown",
      "source": [
        "regressão multipla"
      ],
      "metadata": {
        "id": "HRg6GvVss8SJ"
      }
    },
    {
      "cell_type": "code",
      "source": [
        "#copia\n",
        "dataset_1 = dataset_salarios"
      ],
      "metadata": {
        "id": "PESkjPxJteOU"
      },
      "execution_count": 23,
      "outputs": []
    },
    {
      "cell_type": "code",
      "source": [
        "import pandas as pd\n",
        "import numpy as np\n",
        "import random\n",
        "import matplotlib.pyplot as plt\n",
        "from mpl_toolkits.mplot3d import Axes3D\n",
        "from sklearn.model_selection import train_test_split\n",
        "from sklearn.linear_model import LinearRegression \n",
        "from sklearn import preprocessing\n",
        "\n",
        "# defino los paises en list paises\n",
        "paises = ['CO','BR','PE','MX']\n",
        "\n",
        "# llevo cada elemento de paises a que sea convertido a un numero\n",
        "le1 = preprocessing.LabelEncoder()\n",
        "paises_encoded = le1.fit_transform(paises)\n",
        "\n",
        "# de forma aleatoria creo 30 elementos para dataset\n",
        "paises_dataset = [random.choice(paises_encoded) for i in range(len(dataset_1))]\n",
        "\n",
        "# paises codificados y en lista pasados al dataset\n",
        "dataset_1['pais'] = paises_dataset"
      ],
      "metadata": {
        "id": "Pb1KNCmos7TN"
      },
      "execution_count": 24,
      "outputs": []
    },
    {
      "cell_type": "code",
      "source": [
        "# Dividiendo las columnas en x y y\n",
        "x = dataset_1.drop('Salario', axis=1)\n",
        "y = dataset_1.iloc[:,1].values\n",
        "\n",
        "# dividimos nuestro dataset\n",
        "X_train, X_test, Y_train, Y_test = train_test_split(x, y, test_size = 0.2, random_state = 0)\n",
        "\n",
        "# Invocamos el modelo y creamos el modelo con .fit\n",
        "regressor = LinearRegression()\n",
        "regressor.fit(X_train, Y_train)\n",
        "\n",
        "# Evaluamos performance\n",
        "print(regressor.score(X_test, Y_test))"
      ],
      "metadata": {
        "colab": {
          "base_uri": "https://localhost:8080/"
        },
        "id": "UttRsOrutxej",
        "outputId": "c6cd7a72-5e51-496f-a647-8e1de6c81cab"
      },
      "execution_count": 25,
      "outputs": [
        {
          "output_type": "stream",
          "name": "stdout",
          "text": [
            "0.7382473654110628\n"
          ]
        }
      ]
    },
    {
      "cell_type": "code",
      "source": [
        "# ploteamos datos de entrenamiento para ver si realmente el \n",
        "# modelo lo hizo bien, se entreno como se debe\n",
        "fig = plt.figure()\n",
        "viz_train = fig.add_subplot(111, projection='3d')\n",
        "viz_train.scatter(X_train['Aexperiencia'],X_train['pais'], Y_train, color = 'blue')\n",
        "viz_train.plot_trisurf(X_train['Aexperiencia'],X_train['pais'], regressor.predict(X_train),color = 'black', alpha = 0.5)\n",
        "viz_train.set_title('Salario Experiencia y pais')\n",
        "viz_train.set_xlabel('Experiencia')\n",
        "viz_train.set_ylabel('Pais')\n",
        "viz_train.set_zlabel('Salario')\n",
        "viz_train.set_yticks(range(len(paises_encoded)))\n",
        "viz_train.set_yticklabels(le1.inverse_transform(paises_encoded))\n",
        "viz_train.azim=-10\n",
        "fig.show\n"
      ],
      "metadata": {
        "colab": {
          "base_uri": "https://localhost:8080/",
          "height": 265
        },
        "id": "p4cfpTeDt7ua",
        "outputId": "bcd33a74-1e23-4d4f-ec33-62cc5d011fb0"
      },
      "execution_count": 26,
      "outputs": [
        {
          "output_type": "execute_result",
          "data": {
            "text/plain": [
              "<bound method Figure.show of <Figure size 432x288 with 1 Axes>>"
            ]
          },
          "metadata": {},
          "execution_count": 26
        },
        {
          "output_type": "display_data",
          "data": {
            "text/plain": [
              "<Figure size 432x288 with 1 Axes>"
            ],
            "image/png": "[encoded data removed]"
          },
          "metadata": {
            "needs_background": "light"
          }
        }
      ]
    },
    {
      "cell_type": "code",
      "source": [
        "# probamos con datos de test\n",
        "fig = plt.figure()\n",
        "viz_train = fig.add_subplot(111, projection='3d')\n",
        "viz_train.scatter(X_test['Aexperiencia'],X_test['pais'], Y_test, color = 'red')\n",
        "viz_train.plot_trisurf(X_train['Aexperiencia'], X_train['pais'], regressor.predict(X_train),color = 'black', alpha = 0.5)\n",
        "viz_train.set_title('Salario Experiencia y pais')\n",
        "viz_train.set_xlabel('Experiencia')\n",
        "viz_train.set_ylabel('Pais')\n",
        "viz_train.set_zlabel('Salario')\n",
        "viz_train.set_yticks(range(len(paises_encoded)))\n",
        "viz_train.set_yticklabels(le1.inverse_transform(paises_encoded))\n",
        "viz_train.azim=-10\n",
        "fig.show"
      ],
      "metadata": {
        "colab": {
          "base_uri": "https://localhost:8080/",
          "height": 265
        },
        "id": "G4pSEGvxuL4D",
        "outputId": "87e4c212-f6e6-46e3-d7b0-7034bd83d7cb"
      },
      "execution_count": 27,
      "outputs": [
        {
          "output_type": "execute_result",
          "data": {
            "text/plain": [
              "<bound method Figure.show of <Figure size 432x288 with 1 Axes>>"
            ]
          },
          "metadata": {},
          "execution_count": 27
        },
        {
          "output_type": "display_data",
          "data": {
            "text/plain": [
              "<Figure size 432x288 with 1 Axes>"
            ],
            "image/png": "[encoded data removed]"
          },
          "metadata": {
            "needs_background": "light"
          }
        }
      ]
    },
    {
      "cell_type": "markdown",
      "source": [
        " Regressão logistica"
      ],
      "metadata": {
        "id": "UGDjflZ7ubmO"
      }
    }
  ]
}